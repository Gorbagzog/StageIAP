{
 "cells": [
  {
   "cell_type": "code",
   "execution_count": 1,
   "metadata": {
    "collapsed": true
   },
   "outputs": [],
   "source": [
    "%matplotlib osx\n",
    "import pyfits\n",
    "import numpy as np\n",
    "import matplotlib.pyplot as plt\n",
    "import scipy\n",
    "from astropy.cosmology import Planck15 as cosmo"
   ]
  },
  {
   "cell_type": "code",
   "execution_count": 2,
   "metadata": {
    "collapsed": true
   },
   "outputs": [],
   "source": [
    "def comov_volume(omega_sample, zmin, zmax):\n",
    "    \"Compute the comoving volume between two redshifts in a solid angle.\"\n",
    "    V = omega_sample/41253*(cosmo.comoving_volume(zmax)-cosmo.comoving_volume(\n",
    "        zmin))\n",
    "    return V\n"
   ]
  },
  {
   "cell_type": "code",
   "execution_count": 3,
   "metadata": {
    "collapsed": true
   },
   "outputs": [],
   "source": [
    "\"\"\"Load Jean's Catalog\"\"\"\n",
    "hdulist = pyfits.open('../Data/COSMOS2015_clustering_v2.0_clean.fits')\n",
    "tdata = hdulist[1].data\n",
    "hdulist.close()\n",
    "\n",
    "tdata = tdata[tdata['photo_z']<99]\n",
    "tdata = tdata[tdata['clean']>0]\n",
    "tdata = tdata[tdata['mstar_cosmo']>7.2]\n"
   ]
  },
  {
   "cell_type": "code",
   "execution_count": 6,
   "metadata": {},
   "outputs": [
    {
     "name": "stdout",
     "output_type": "stream",
     "text": [
      "0.50943\n",
      "0.8970835390062818\n",
      "1343920.5112229285\n"
     ]
    }
   ],
   "source": [
    "#Redshift selection\n",
    "zmin = 0.3\n",
    "zmax=0.7\n",
    "zbin = tdata[tdata['photo_z']>zmin]\n",
    "zbin = zbin[zbin['photo_z']<zmax]\n",
    "\n",
    "n = 100 #number of mass bins for our graph\n",
    "mmin = zbin['mstar_cosmo'].min()\n",
    "mmax = zbin['mstar_cosmo'].max()\n",
    "step = (mmax-mmin)/n #resolution\n",
    "\n",
    "omega_sample = 1.2\n",
    "V = comov_volume(omega_sample, zmin, zmax)\n",
    "\n",
    "zmoy = np.average(zbin['photo_z']) #We take the average z to compute h\n",
    "h = cosmo.H(zmoy)/(100*cosmo.H0.unit)\n",
    "V_corr = V*h*h*h\n",
    "V_corr = V_corr.value\n"
   ]
  },
  {
   "cell_type": "code",
   "execution_count": 7,
   "metadata": {
    "collapsed": true
   },
   "outputs": [],
   "source": [
    "N = np.empty(n)\n",
    "for i in range(n):\n",
    "    \"Compute the number of galaxies more massive than m for each mass bin\"\n",
    "    N[i] = np.sum(zbin['mstar_cosmo']>(mmin+step*i)) \n",
    "N = N / (V*h*h*h)"
   ]
  },
  {
   "cell_type": "code",
   "execution_count": 9,
   "metadata": {},
   "outputs": [
    {
     "data": {
      "text/plain": [
       "<matplotlib.text.Text at 0x184dcce80>"
      ]
     },
     "execution_count": 9,
     "metadata": {},
     "output_type": "execute_result"
    }
   ],
   "source": [
    "fig, ax = plt.subplots()\n",
    "ax.plot(np.linspace(mmin, mmax, num=n)*h,N)\n",
    "ax.set_title('Abundance for Jean\\'s catalog')\n",
    "ax.set_ylabel('N(>M*), $h^{3}.Mpc^{-3}$', size=14)\n",
    "ax.set_xlabel('Mass, $log(M_{\\odot}/h)$', size=14)"
   ]
  },
  {
   "cell_type": "code",
   "execution_count": 51,
   "metadata": {
    "collapsed": true
   },
   "outputs": [],
   "source": [
    "plt.close()"
   ]
  },
  {
   "cell_type": "code",
   "execution_count": 62,
   "metadata": {},
   "outputs": [
    {
     "name": "stdout",
     "output_type": "stream",
     "text": [
      "Le redshift moyen est 0.50943, le facteur d'échelle est donc de 0.662501873715\n"
     ]
    }
   ],
   "source": [
    "a = 1/(1+zmoy)\n",
    "print('Le redshift moyen est '+str(zmoy)+', le facteur d\\'échelle est donc de '+str(a))"
   ]
  },
  {
   "cell_type": "code",
   "execution_count": null,
   "metadata": {
    "collapsed": true
   },
   "outputs": [],
   "source": []
  },
  {
   "cell_type": "code",
   "execution_count": null,
   "metadata": {
    "collapsed": true
   },
   "outputs": [],
   "source": []
  },
  {
   "cell_type": "code",
   "execution_count": null,
   "metadata": {
    "collapsed": true
   },
   "outputs": [],
   "source": []
  }
 ],
 "metadata": {
  "kernelspec": {
   "display_name": "Python 3",
   "language": "python",
   "name": "python3"
  },
  "language_info": {
   "codemirror_mode": {
    "name": "ipython",
    "version": 3
   },
   "file_extension": ".py",
   "mimetype": "text/x-python",
   "name": "python",
   "nbconvert_exporter": "python",
   "pygments_lexer": "ipython3",
   "version": "3.6.1"
  }
 },
 "nbformat": 4,
 "nbformat_minor": 2
}
